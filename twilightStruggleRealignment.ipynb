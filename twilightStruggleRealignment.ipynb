{
  "nbformat": 4,
  "nbformat_minor": 0,
  "metadata": {
    "colab": {
      "name": "twilightStruggleRealignment.ipynb",
      "provenance": [],
      "authorship_tag": "ABX9TyNaCLrRaH9ueMABy8LtLK42"
    },
    "kernelspec": {
      "name": "python3",
      "display_name": "Python 3"
    },
    "language_info": {
      "name": "python"
    }
  },
  "cells": [
    {
      "cell_type": "markdown",
      "metadata": {
        "id": "KGDdI2kIUB0O"
      },
      "source": [
        "Twilight Struggle is one of the all-time great boardgames. It is a card game where two players compete as opposing Superpower (USSR and US) for Cold War victory."
      ]
    },
    {
      "cell_type": "markdown",
      "metadata": {
        "id": "foc3OhEPX-8s"
      },
      "source": [
        "Card\n",
        "\n",
        "Each card has Operation Points (Ops) = 1, 2, 3, or 4."
      ]
    },
    {
      "cell_type": "markdown",
      "metadata": {
        "id": "RDK6P291U-yi"
      },
      "source": [
        "Realignment\n",
        "\n",
        "Realignment rolls are used to reduce enemy Influence in a country. To attempt a Realignment roll, the acting player need not have any Influence in the target country or in any adjacent country—although this improves the chance of success greatly.\n",
        "\n",
        "When using a card for Realignment rolls, the player may resolve each roll before declaring the next target.\n",
        "\n",
        "It costs one Op to make a Realignment roll. Each player rolls a die.\n",
        "\n",
        "Before rolling, each player has a modifier: +1 for each adjacent controlled country; +1 if they have more Influence in the target country than their opponent; +1 if your Superpower is adjacent to the target country.\n",
        "\n",
        "Rolled number plus modifier is the final results. High roller wins.\n",
        "\n",
        "Let **x** be the total modifier calculated from player I minus player II. For this question we will consider x = 0, ±1, ±2, ±3, ±4.\n",
        "\n",
        "Let **y** be the difference of final results between player I and player II(y ≥ 0). If y > 0, the high roller removes y markers from their opponent’s Influence in the target country. Remove all markers if there are not enough.\n",
        "\n",
        "At most, the same country can be targeted z times per Action Round, z being the Ops on the card played.\n"
      ]
    },
    {
      "cell_type": "markdown",
      "metadata": {
        "id": "crk3zhMHZK9P"
      },
      "source": [
        "Simulation\n",
        "\n",
        "This simulation will cover situations for x **starting from** 0, ±1, ±2, ±3, ±4; y is **at least** 1, 2, 3, 4, 5; z = 1.\n",
        "\n",
        "Notice that, when we attempt to reaglin multiple times in the same country, each attempt affects Influence, which in turn may affect the modifier for the next attempt. For example, player I loses Influence and thus loses the +1 modifier for having more Influence in the target country than player II. In other words, the problem is overcomplicated when we realign multiple times, as it depends on the prior Influence of both Superpowers in target country.\n",
        "\n",
        "Therefore, we only simulate one realignment attempt, z = 1. Which makes sense because when you are making multiple realignment attempts, you will not make the bonehead decision to spend all your Ops in the same country. Instead, you will decide which country to target for each attempt, based on the result of the previous attempt."
      ]
    },
    {
      "cell_type": "code",
      "metadata": {
        "id": "QwOo0Rd6Tx6N"
      },
      "source": [
        "import numpy as np\n",
        "import pandas as pd"
      ],
      "execution_count": 1,
      "outputs": []
    },
    {
      "cell_type": "code",
      "metadata": {
        "colab": {
          "base_uri": "https://localhost:8080/"
        },
        "id": "5Ldeb2JgbEd4",
        "outputId": "e0f4b492-2cc2-45f0-e1df-6539c78517d1"
      },
      "source": [
        "rng = np.random.default_rng()\n",
        "for i in range(10):\n",
        "    r1 = rng.integers(1, 7)\n",
        "    r2 = rng.integers(1, 7)\n",
        "    print([r1, r2])"
      ],
      "execution_count": 2,
      "outputs": [
        {
          "output_type": "stream",
          "name": "stdout",
          "text": [
            "[6, 3]\n",
            "[1, 4]\n",
            "[5, 6]\n",
            "[2, 6]\n",
            "[5, 6]\n",
            "[5, 1]\n",
            "[3, 6]\n",
            "[1, 6]\n",
            "[3, 3]\n",
            "[4, 5]\n"
          ]
        }
      ]
    },
    {
      "cell_type": "code",
      "metadata": {
        "colab": {
          "base_uri": "https://localhost:8080/"
        },
        "id": "g7inI7ghbZtc",
        "outputId": "0f774cc4-8623-476d-c738-638f9c229b4f"
      },
      "source": [
        "modifiers = [x for x in range(-4, 0)] + [x for x in range(5)]\n",
        "modifiers"
      ],
      "execution_count": 3,
      "outputs": [
        {
          "output_type": "execute_result",
          "data": {
            "text/plain": [
              "[-4, -3, -2, -1, 0, 1, 2, 3, 4]"
            ]
          },
          "metadata": {},
          "execution_count": 3
        }
      ]
    },
    {
      "cell_type": "markdown",
      "metadata": {
        "id": "kvJYVlbEr0ve"
      },
      "source": [
        "Set up one dataframe for each starting modifier to store results (probabilities)"
      ]
    },
    {
      "cell_type": "code",
      "metadata": {
        "id": "dtnUKK9BmF4d"
      },
      "source": [
        "def initialize_probability():\n",
        "    probability = pd.DataFrame(columns = ['Result'] + [\"Modifier \" + str(x) for x in modifiers])\n",
        "    for y in range(1, 6):\n",
        "        probability.loc[len(probability.index)] = [y] + [0 for x in modifiers]\n",
        "    probability = probability.set_index(probability['Result'])\n",
        "    probability = probability.drop(columns='Result')\n",
        "    return probability"
      ],
      "execution_count": 4,
      "outputs": []
    },
    {
      "cell_type": "markdown",
      "metadata": {
        "id": "UlslPHdWsBiU"
      },
      "source": [
        "In the dataframe\n",
        "\n",
        "Result = y: acting player wins by **at least** y from one realignment attempt\n",
        "\n",
        "The rest of the columns: when acting player has modifier 0, ±1, ±2, ±3, ±4."
      ]
    },
    {
      "cell_type": "markdown",
      "metadata": {
        "id": "FTuRiBcMrsry"
      },
      "source": [
        "The number of simulation runs"
      ]
    },
    {
      "cell_type": "code",
      "metadata": {
        "id": "xAFH-ymgrqdU",
        "colab": {
          "base_uri": "https://localhost:8080/",
          "height": 235
        },
        "outputId": "bb33a97e-1de0-4c0e-9043-d1473d07ed1d"
      },
      "source": [
        "n = 10000\n",
        "probability = initialize_probability()\n",
        "probability"
      ],
      "execution_count": 5,
      "outputs": [
        {
          "output_type": "execute_result",
          "data": {
            "text/html": [
              "<div>\n",
              "<style scoped>\n",
              "    .dataframe tbody tr th:only-of-type {\n",
              "        vertical-align: middle;\n",
              "    }\n",
              "\n",
              "    .dataframe tbody tr th {\n",
              "        vertical-align: top;\n",
              "    }\n",
              "\n",
              "    .dataframe thead th {\n",
              "        text-align: right;\n",
              "    }\n",
              "</style>\n",
              "<table border=\"1\" class=\"dataframe\">\n",
              "  <thead>\n",
              "    <tr style=\"text-align: right;\">\n",
              "      <th></th>\n",
              "      <th>Modifier -4</th>\n",
              "      <th>Modifier -3</th>\n",
              "      <th>Modifier -2</th>\n",
              "      <th>Modifier -1</th>\n",
              "      <th>Modifier 0</th>\n",
              "      <th>Modifier 1</th>\n",
              "      <th>Modifier 2</th>\n",
              "      <th>Modifier 3</th>\n",
              "      <th>Modifier 4</th>\n",
              "    </tr>\n",
              "    <tr>\n",
              "      <th>Result</th>\n",
              "      <th></th>\n",
              "      <th></th>\n",
              "      <th></th>\n",
              "      <th></th>\n",
              "      <th></th>\n",
              "      <th></th>\n",
              "      <th></th>\n",
              "      <th></th>\n",
              "      <th></th>\n",
              "    </tr>\n",
              "  </thead>\n",
              "  <tbody>\n",
              "    <tr>\n",
              "      <th>1</th>\n",
              "      <td>0</td>\n",
              "      <td>0</td>\n",
              "      <td>0</td>\n",
              "      <td>0</td>\n",
              "      <td>0</td>\n",
              "      <td>0</td>\n",
              "      <td>0</td>\n",
              "      <td>0</td>\n",
              "      <td>0</td>\n",
              "    </tr>\n",
              "    <tr>\n",
              "      <th>2</th>\n",
              "      <td>0</td>\n",
              "      <td>0</td>\n",
              "      <td>0</td>\n",
              "      <td>0</td>\n",
              "      <td>0</td>\n",
              "      <td>0</td>\n",
              "      <td>0</td>\n",
              "      <td>0</td>\n",
              "      <td>0</td>\n",
              "    </tr>\n",
              "    <tr>\n",
              "      <th>3</th>\n",
              "      <td>0</td>\n",
              "      <td>0</td>\n",
              "      <td>0</td>\n",
              "      <td>0</td>\n",
              "      <td>0</td>\n",
              "      <td>0</td>\n",
              "      <td>0</td>\n",
              "      <td>0</td>\n",
              "      <td>0</td>\n",
              "    </tr>\n",
              "    <tr>\n",
              "      <th>4</th>\n",
              "      <td>0</td>\n",
              "      <td>0</td>\n",
              "      <td>0</td>\n",
              "      <td>0</td>\n",
              "      <td>0</td>\n",
              "      <td>0</td>\n",
              "      <td>0</td>\n",
              "      <td>0</td>\n",
              "      <td>0</td>\n",
              "    </tr>\n",
              "    <tr>\n",
              "      <th>5</th>\n",
              "      <td>0</td>\n",
              "      <td>0</td>\n",
              "      <td>0</td>\n",
              "      <td>0</td>\n",
              "      <td>0</td>\n",
              "      <td>0</td>\n",
              "      <td>0</td>\n",
              "      <td>0</td>\n",
              "      <td>0</td>\n",
              "    </tr>\n",
              "  </tbody>\n",
              "</table>\n",
              "</div>"
            ],
            "text/plain": [
              "       Modifier -4 Modifier -3 Modifier -2  ... Modifier 2 Modifier 3 Modifier 4\n",
              "Result                                      ...                                 \n",
              "1                0           0           0  ...          0          0          0\n",
              "2                0           0           0  ...          0          0          0\n",
              "3                0           0           0  ...          0          0          0\n",
              "4                0           0           0  ...          0          0          0\n",
              "5                0           0           0  ...          0          0          0\n",
              "\n",
              "[5 rows x 9 columns]"
            ]
          },
          "metadata": {},
          "execution_count": 5
        }
      ]
    },
    {
      "cell_type": "code",
      "metadata": {
        "id": "t7JpxvdZqB9T"
      },
      "source": [
        "for i in range(n):\n",
        "    for x in modifiers:\n",
        "        r1 = rng.integers(1, 7)\n",
        "        r2 = rng.integers(1, 7)\n",
        "        Result = r1 - r2 + x\n",
        "        #print('r1 = {}, r2 = {}, x = {}, Result = {}'.format(r1, r2, x, Result))\n",
        "        for y in range(1, min(Result + 1, 6)):\n",
        "            #print('r1 = {}, r2 = {}, x = {}, Result = {}, y = {}'.format(r1, r2, x, Result, y))\n",
        "            probability.at[y, \"Modifier \" + str(x)] += 1 / n"
      ],
      "execution_count": 6,
      "outputs": []
    },
    {
      "cell_type": "code",
      "metadata": {
        "colab": {
          "base_uri": "https://localhost:8080/",
          "height": 235
        },
        "id": "1dObTBsg2wXL",
        "outputId": "b6156e40-85dd-4d64-b780-0d1e952b4fc5"
      },
      "source": [
        "probability"
      ],
      "execution_count": 7,
      "outputs": [
        {
          "output_type": "execute_result",
          "data": {
            "text/html": [
              "<div>\n",
              "<style scoped>\n",
              "    .dataframe tbody tr th:only-of-type {\n",
              "        vertical-align: middle;\n",
              "    }\n",
              "\n",
              "    .dataframe tbody tr th {\n",
              "        vertical-align: top;\n",
              "    }\n",
              "\n",
              "    .dataframe thead th {\n",
              "        text-align: right;\n",
              "    }\n",
              "</style>\n",
              "<table border=\"1\" class=\"dataframe\">\n",
              "  <thead>\n",
              "    <tr style=\"text-align: right;\">\n",
              "      <th></th>\n",
              "      <th>Modifier -4</th>\n",
              "      <th>Modifier -3</th>\n",
              "      <th>Modifier -2</th>\n",
              "      <th>Modifier -1</th>\n",
              "      <th>Modifier 0</th>\n",
              "      <th>Modifier 1</th>\n",
              "      <th>Modifier 2</th>\n",
              "      <th>Modifier 3</th>\n",
              "      <th>Modifier 4</th>\n",
              "    </tr>\n",
              "    <tr>\n",
              "      <th>Result</th>\n",
              "      <th></th>\n",
              "      <th></th>\n",
              "      <th></th>\n",
              "      <th></th>\n",
              "      <th></th>\n",
              "      <th></th>\n",
              "      <th></th>\n",
              "      <th></th>\n",
              "      <th></th>\n",
              "    </tr>\n",
              "  </thead>\n",
              "  <tbody>\n",
              "    <tr>\n",
              "      <th>1</th>\n",
              "      <td>0.0295</td>\n",
              "      <td>0.0798</td>\n",
              "      <td>0.161</td>\n",
              "      <td>0.2808</td>\n",
              "      <td>0.4181</td>\n",
              "      <td>0.582</td>\n",
              "      <td>0.7237</td>\n",
              "      <td>0.8234</td>\n",
              "      <td>0.9181</td>\n",
              "    </tr>\n",
              "    <tr>\n",
              "      <th>2</th>\n",
              "      <td>0</td>\n",
              "      <td>0.0279</td>\n",
              "      <td>0.0824</td>\n",
              "      <td>0.1717</td>\n",
              "      <td>0.2788</td>\n",
              "      <td>0.4166</td>\n",
              "      <td>0.5819</td>\n",
              "      <td>0.7153</td>\n",
              "      <td>0.8362</td>\n",
              "    </tr>\n",
              "    <tr>\n",
              "      <th>3</th>\n",
              "      <td>0</td>\n",
              "      <td>0</td>\n",
              "      <td>0.0269</td>\n",
              "      <td>0.0822</td>\n",
              "      <td>0.166</td>\n",
              "      <td>0.2718</td>\n",
              "      <td>0.4193</td>\n",
              "      <td>0.5786</td>\n",
              "      <td>0.7246</td>\n",
              "    </tr>\n",
              "    <tr>\n",
              "      <th>4</th>\n",
              "      <td>0</td>\n",
              "      <td>0</td>\n",
              "      <td>0</td>\n",
              "      <td>0.0272</td>\n",
              "      <td>0.0811</td>\n",
              "      <td>0.1632</td>\n",
              "      <td>0.275</td>\n",
              "      <td>0.4044</td>\n",
              "      <td>0.5832</td>\n",
              "    </tr>\n",
              "    <tr>\n",
              "      <th>5</th>\n",
              "      <td>0</td>\n",
              "      <td>0</td>\n",
              "      <td>0</td>\n",
              "      <td>0</td>\n",
              "      <td>0.0273</td>\n",
              "      <td>0.0824</td>\n",
              "      <td>0.1667</td>\n",
              "      <td>0.2656</td>\n",
              "      <td>0.4164</td>\n",
              "    </tr>\n",
              "  </tbody>\n",
              "</table>\n",
              "</div>"
            ],
            "text/plain": [
              "       Modifier -4 Modifier -3 Modifier -2  ... Modifier 2 Modifier 3 Modifier 4\n",
              "Result                                      ...                                 \n",
              "1           0.0295      0.0798       0.161  ...     0.7237     0.8234     0.9181\n",
              "2                0      0.0279      0.0824  ...     0.5819     0.7153     0.8362\n",
              "3                0           0      0.0269  ...     0.4193     0.5786     0.7246\n",
              "4                0           0           0  ...      0.275     0.4044     0.5832\n",
              "5                0           0           0  ...     0.1667     0.2656     0.4164\n",
              "\n",
              "[5 rows x 9 columns]"
            ]
          },
          "metadata": {},
          "execution_count": 7
        }
      ]
    }
  ]
}